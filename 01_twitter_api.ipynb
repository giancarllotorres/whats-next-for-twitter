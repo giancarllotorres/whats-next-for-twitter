{
 "cells": [
  {
   "cell_type": "code",
   "execution_count": 1,
   "id": "a1dcce5c",
   "metadata": {},
   "outputs": [],
   "source": [
    "#Importation\n",
    "import tweepy\n",
    "import config\n",
    "import re"
   ]
  },
  {
   "cell_type": "code",
   "execution_count": 2,
   "id": "23988ea6",
   "metadata": {},
   "outputs": [],
   "source": [
    "#Running config. files with credentials to authenticate Twitter's API\n",
    "%run ./config.ini"
   ]
  },
  {
   "cell_type": "code",
   "execution_count": 3,
   "id": "e2692bf1",
   "metadata": {},
   "outputs": [],
   "source": [
    "#Authentication\n",
    "client = tweepy.Client(bearer_token=(bearer_token))\n",
    "auth = tweepy.OAuthHandler(api_key,api_key_secret)\n",
    "auth.set_access_token(access_token,access_token_secret)\n",
    "api = tweepy.API(auth)"
   ]
  },
  {
   "cell_type": "code",
   "execution_count": 4,
   "id": "d35c7448",
   "metadata": {},
   "outputs": [
    {
     "name": "stdout",
     "output_type": "stream",
     "text": [
      "Input Twitter Thread/Discussion link here: https://twitter.com/elonmusk/status/1593659832552153093\n"
     ]
    }
   ],
   "source": [
    "#Setting Twitter Thread/Discussion Link:\n",
    "tweet = input(\"Input Twitter Thread/Discussion link here: \")\n",
    "#Extract discussion ID:\n",
    "tweet_ID = tweet.split(\"/\")[5]\n",
    "#Create a list to append tweet's extraction:\n",
    "answers = []"
   ]
  },
  {
   "cell_type": "code",
   "execution_count": 5,
   "id": "db4fd1c0",
   "metadata": {},
   "outputs": [],
   "source": [
    "#First Append\n",
    "query = f\"conversation_id:{tweet_ID}\"\n",
    "replys = client.search_recent_tweets(query=query, max_results=100)\n",
    "for data in replys:\n",
    "    answers.append(data)"
   ]
  },
  {
   "cell_type": "code",
   "execution_count": 7,
   "id": "6f3d4a6e",
   "metadata": {},
   "outputs": [],
   "source": [
    "#Loop to append more tweets, using the \"next_token\" that is available at the end of every loop.    \n",
    "for keys in range(1,500):\n",
    "    token = answers[-1]['next_token']\n",
    "    query = f\"conversation_id:{tweet_ID}\"\n",
    "    replys = client.search_recent_tweets(query=query,next_token = {token}, max_results=100)\n",
    "    for data in replys:\n",
    "        answers.append(data)"
   ]
  },
  {
   "cell_type": "code",
   "execution_count": 188,
   "id": "1f288ee3",
   "metadata": {},
   "outputs": [],
   "source": [
    "df = pd.DataFrame(answers)\n",
    "df.to_csv(\"DataFrame.csv\",index=False)"
   ]
  }
 ],
 "metadata": {
  "kernelspec": {
   "display_name": "Python 3 (ipykernel)",
   "language": "python",
   "name": "python3"
  },
  "language_info": {
   "codemirror_mode": {
    "name": "ipython",
    "version": 3
   },
   "file_extension": ".py",
   "mimetype": "text/x-python",
   "name": "python",
   "nbconvert_exporter": "python",
   "pygments_lexer": "ipython3",
   "version": "3.9.13"
  }
 },
 "nbformat": 4,
 "nbformat_minor": 5
}
